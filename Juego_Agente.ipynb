{
  "nbformat": 4,
  "nbformat_minor": 0,
  "metadata": {
    "colab": {
      "provenance": [],
      "authorship_tag": "ABX9TyMNGt67aupOkAYSkt7GKjVD",
      "include_colab_link": true
    },
    "kernelspec": {
      "name": "python3",
      "display_name": "Python 3"
    },
    "language_info": {
      "name": "python"
    }
  },
  "cells": [
    {
      "cell_type": "markdown",
      "metadata": {
        "id": "view-in-github",
        "colab_type": "text"
      },
      "source": [
        "<a href=\"https://colab.research.google.com/github/Perla-Coronado/Repositorio_python_2025/blob/main/Juego_Agente.ipynb\" target=\"_parent\"><img src=\"https://colab.research.google.com/assets/colab-badge.svg\" alt=\"Open In Colab\"/></a>"
      ]
    },
    {
      "cell_type": "code",
      "execution_count": 21,
      "metadata": {
        "colab": {
          "base_uri": "https://localhost:8080/"
        },
        "id": "iAZucxUBdFcA",
        "outputId": "573bb44a-0109-409e-f660-199ecf4ec390"
      },
      "outputs": [
        {
          "output_type": "stream",
          "name": "stdout",
          "text": [
            "  0000             0000        7777777777777777/========___________\n",
            "   00000000         00000000      7777^^^^^^^7777/ || ||   ___________\n",
            "  000    000       000    000     777       7777/=========//\n",
            " 000      000     000      000             7777// ((     //\n",
            "0000      0000   0000      0000           7777//   \\   //\n",
            "0000      0000   0000      0000          7777//========//\n",
            "0000      0000   0000      0000         7777\n",
            "0000      0000   0000      0000        7777\n",
            " 000      000     000      000        7777\n",
            "  000    000       000    000       77777\n",
            "   00000000         00000000       7777777\n",
            "     0000             0000        777777777\n",
            "\n",
            "\n",
            "Bienvenido Agente\n",
            "¿Quieres conocer tu nueva misión?Si\n",
            "elige un grado de dificultad del 1-3, siendo el 3 el mas dificil3\n",
            "Tu mision es desifrar el valor numerico del color Blanco, si se sabe que rojo es 7, verde es 8 y amarillo es 11, ¿Blanco es? \n",
            "3\n",
            "piensalo de nuevo y reintenta la mision\n"
          ]
        }
      ],
      "source": [
        "print ('''  0000             0000        7777777777777777/========___________\n",
        "   00000000         00000000      7777^^^^^^^7777/ || ||   ___________\n",
        "  000    000       000    000     777       7777/=========//\n",
        " 000      000     000      000             7777// ((     //\n",
        "0000      0000   0000      0000           7777//   \\\\   //\n",
        "0000      0000   0000      0000          7777//========//\n",
        "0000      0000   0000      0000         7777\n",
        "0000      0000   0000      0000        7777\n",
        " 000      000     000      000        7777\n",
        "  000    000       000    000       77777\n",
        "   00000000         00000000       7777777\n",
        "     0000             0000        777777777\n",
        "\n",
        "''')\n",
        "print ('Bienvenido Agente')\n",
        "opcion = input('¿Quieres conocer tu nueva misión?')\n",
        "if opcion == \"Si\":\n",
        "  opcion_2 = input('elige un grado de dificultad del 1-3, siendo el 3 el mas dificil')\n",
        "  if opcion_2 == \"1\":\n",
        "    opcion_3 = input('tu mision es: Descubrir cuantos servicios de espionaje privado deben venderse para que la corporacion gané $1500 dolares, si se venden 5 servicios por $200 y se compran 3 servicios por $100')\n",
        "    if opcion_3 == \"2250\":\n",
        "      print('excelente, eres el mejor espia!!')\n",
        "    else:\n",
        "      print('selecciona un menor grado de dificultad e intenta de nuevo')\n",
        "  elif opcion_2 == \"2\":\n",
        "    opcion_3 = input('tu mision es: descubrir ¿cuanto tiempo lleva operarando la organización RRR?, la unica informacion que tenemos es: que dentro de 15 años la organizacion tendra el doble de la edad de la que tenía hace 5 años')\n",
        "    if opcion_3 == \"25\":\n",
        "      print ('excelente, eres el mejor espia!!')\n",
        "    else:\n",
        "      print ('intenta con un menor grado de difucultad')\n",
        "  elif opcion_2 == \"3\":\n",
        "    opcion_3 = input('Tu mision es desifrar el valor numerico del color Blanco, si se sabe que rojo es 7, verde es 8 y amarillo es 11, ¿Blanco es? \\n')\n",
        "    if opcion_3 == \"9\":\n",
        "      print ('excelente estas mejorando, podrias intentar con una mision mas dificil')\n",
        "    else:\n",
        "      print ('piensalo de nuevo y reintenta la mision')\n",
        "else:\n",
        "  print ('hasta la proxima misión')\n",
        "\n"
      ]
    }
  ]
}